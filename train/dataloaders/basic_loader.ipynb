{
 "cells": [
  {
   "cell_type": "code",
   "execution_count": 3,
   "metadata": {},
   "outputs": [
    {
     "ename": "IndentationError",
     "evalue": "expected an indented block after function definition on line 33 (2085518900.py, line 36)",
     "output_type": "error",
     "traceback": [
      "\u001b[1;36m  Cell \u001b[1;32mIn[3], line 36\u001b[1;36m\u001b[0m\n\u001b[1;33m    path = '../../preprocessing/datasets/resampled-1.5mm_resolution'\u001b[0m\n\u001b[1;37m                                                                    ^\u001b[0m\n\u001b[1;31mIndentationError\u001b[0m\u001b[1;31m:\u001b[0m expected an indented block after function definition on line 33\n"
     ]
    }
   ],
   "source": [
    "import torch\n",
    "import os\n",
    "import numpy as np\n",
    "import pandas as pd\n",
    "from torch.utils.data import DataLoader, Dataset\n",
    "import sys\n",
    "\n",
    "sys.path.insert(1, '../../util/')\n",
    "\n",
    "import augmentation as aug\n",
    "\n",
    "class MRIDataset(Dataset):\n",
    "    def __init__(self, path, hyperparameters):\n",
    "        self.x     = [] #MRI samples\n",
    "        self.y1    = [] #Coordinate labels\n",
    "        self.y2    = [] #Severity labels\n",
    "        self.masks = [] #Label masks\n",
    "        self.hyperparameters = hyperparameters\n",
    "        for study in os.listdir(path):\n",
    "            study_path = os.path.join(path,study)\n",
    "            # print(study_path)\n",
    "            for series in os.listdir(study_path):\n",
    "                data_path = f'{study_path}/{series}/{series}_'\n",
    "                self.x.append(np.load(f'{data_path}image.npy'))\n",
    "                self.y1.append(np.load(f'{data_path}coordinates.npy'))\n",
    "                self.y2.append(np.load(f'{data_path}labels.npy'))\n",
    "                self.masks.append(np.load(f'{data_path}mask.npy'))\n",
    "\n",
    "    def __len__(self):\n",
    "        return len(self.x)\n",
    "\n",
    "    def __getitem__(self, idx):\n",
    "        x = self.x[idx]\n",
    "        y1 = self.y1[idx]\n",
    "        y2 = self.y2[idx]\n",
    "        \n",
    "        #Data augmentation\n",
    "        \n",
    "        #Normalize\n",
    "        x = aug.normalize_volume(x)\n",
    "        \n",
    "        #Scaling\n",
    "        x, y1 = aug.random_scaling(x, y1, self.hyperparameters['max_scale'])\n",
    "        \n",
    "        #Noise\n",
    "        x = aug.gaussian_noise(x, self.hyperparameters['noise_std'])\n",
    "        \n",
    "        #Shift and Crop\n",
    "        x, y1, mask = aug.random_shift_and_crop(x, y1, self.hyperparameters['image_shape'], self.hyperparameters['max_shift'])\n",
    "        \n",
    "        y1 = y1 * mask[:, np.newaxis]\n",
    "        y2 = y2 * mask[:, np.newaxis]\n",
    "        \n",
    "        return {'x': x, 'y1': y1, 'y2': y2}\n",
    "\n",
    "# class MRIDataLoader(DataLoader):\n",
    "#     def __init__(self, hyperparameters):\n",
    "        \n",
    "\n",
    "path = '../../preprocessing/datasets/resampled-1.5mm_resolution/'\n",
    "\n",
    "# Create dataset\n",
    "dataset = MRIDataset(path)\n",
    "\n",
    "# Create dataloader\n",
    "dataloader = DataLoader(dataset, batch_size=10, shuffle=True)\n",
    "\n",
    "# Iterate over the dataloader"
   ]
  },
  {
   "cell_type": "code",
   "execution_count": 7,
   "metadata": {},
   "outputs": [
    {
     "data": {
      "text/plain": [
       "3"
      ]
     },
     "execution_count": 7,
     "metadata": {},
     "output_type": "execute_result"
    }
   ],
   "source": [
    "x = [[234,23423],[234,23423],[234,23423]]\n",
    "len(x)"
   ]
  }
 ],
 "metadata": {
  "kernelspec": {
   "display_name": "Python 3",
   "language": "python",
   "name": "python3"
  },
  "language_info": {
   "codemirror_mode": {
    "name": "ipython",
    "version": 3
   },
   "file_extension": ".py",
   "mimetype": "text/x-python",
   "name": "python",
   "nbconvert_exporter": "python",
   "pygments_lexer": "ipython3",
   "version": "3.10.6"
  }
 },
 "nbformat": 4,
 "nbformat_minor": 2
}
