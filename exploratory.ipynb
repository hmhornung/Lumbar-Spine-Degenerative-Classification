{
 "cells": [
  {
   "cell_type": "code",
   "execution_count": 16,
   "metadata": {},
   "outputs": [],
   "source": [
    "%matplotlib inline\n",
    "\n",
    "import numpy as np # linear algebra\n",
    "import pandas as pd # data processing, CSV file I/O (e.g. pd.read_csv)\n",
    "import pydicom\n",
    "import os\n",
    "import scipy.ndimage\n",
    "import matplotlib.pyplot as plt\n",
    "\n",
    "from skimage import measure, morphology\n",
    "from mpl_toolkits.mplot3d.art3d import Poly3DCollection\n",
    "\n",
    "# Some constants \n",
    "INPUT_FOLDER = 'data/train_images/4264413460/975997321'\n",
    "patients = os.listdir(INPUT_FOLDER)\n",
    "patients.sort()"
   ]
  },
  {
   "cell_type": "code",
   "execution_count": 17,
   "metadata": {},
   "outputs": [],
   "source": [
    "# Load the scans in given folder path\n",
    "def load_scan(path):\n",
    "    slices = [pydicom.read_file(path + '/' + s) for s in os.listdir(path)]\n",
    "    slices.sort(key = lambda x: float(x.ImagePositionPatient[2]))\n",
    "    try:\n",
    "        slice_thickness = np.abs(slices[0].ImagePositionPatient[2] - slices[1].ImagePositionPatient[2])\n",
    "    except:\n",
    "        slice_thickness = np.abs(slices[0].SliceLocation - slices[1].SliceLocation)\n",
    "        \n",
    "    for s in slices:\n",
    "        s.SliceThickness = slice_thickness\n",
    "        \n",
    "    return slices"
   ]
  },
  {
   "cell_type": "code",
   "execution_count": 18,
   "metadata": {},
   "outputs": [],
   "source": [
    "slices = load_scan(INPUT_FOLDER)\n",
    "image = [s.pixel_array for s in slices]\n"
   ]
  },
  {
   "cell_type": "code",
   "execution_count": 24,
   "metadata": {},
   "outputs": [
    {
     "name": "stdout",
     "output_type": "stream",
     "text": [
      "Dataset.file_meta -------------------------------\n",
      "(0002, 0001) File Meta Information Version       OB: b'\\x00\\x01'\n",
      "(0002, 0002) Media Storage SOP Class UID         UI: Enhanced MR Image Storage\n",
      "(0002, 0003) Media Storage SOP Instance UID      UI: 4264413460.1.11\n",
      "(0002, 0010) Transfer Syntax UID                 UI: RLE Lossless\n",
      "(0002, 0012) Implementation Class UID            UI: 1.2.40.0.13.1.1.1\n",
      "(0002, 0013) Implementation Version Name         SH: 'PYDICOM 2.4.2'\n",
      "-------------------------------------------------\n",
      "(0008, 0018) SOP Instance UID                    UI: 4264413460.1.11\n",
      "(0008, 0023) Content Date                        DA: '20240503'\n",
      "(0008, 0033) Content Time                        TM: '224024.030167'\n",
      "(0008, 103e) Series Description                  LO: 'T2'\n",
      "(0010, 0020) Patient ID                          LO: '4264413460'\n",
      "(0018, 0050) Slice Thickness                     DS: '0.20929000000000997'\n",
      "(0018, 0088) Spacing Between Slices              DS: '3.6'\n",
      "(0018, 5100) Patient Position                    CS: 'HFS'\n",
      "(0020, 000d) Study Instance UID                  UI: 4264413460\n",
      "(0020, 000e) Series Instance UID                 UI: 4264413460.975997321\n",
      "(0020, 0013) Instance Number                     IS: '11'\n",
      "(0020, 0032) Image Position (Patient)            DS: [12.461168, -95.05923, -225.95667]\n",
      "(0020, 0037) Image Orientation (Patient)         DS: [-0.009198977, 0.9999577, 1.52786E-10, -0.05813604, -5.3481455E-4, -0.99830854]\n",
      "(0020, 0052) Frame of Reference UID              UI: 1.2.826.0.1.3680043.8.498.10443069973730087059565862437170884744\n",
      "(0020, 1041) Slice Location                      DS: '24.703377'\n",
      "(0028, 0002) Samples per Pixel                   US: 1\n",
      "(0028, 0004) Photometric Interpretation          CS: 'MONOCHROME2'\n",
      "(0028, 0010) Rows                                US: 576\n",
      "(0028, 0011) Columns                             US: 576\n",
      "(0028, 0030) Pixel Spacing                       DS: [0.4861111, 0.4861111]\n",
      "(0028, 0100) Bits Allocated                      US: 16\n",
      "(0028, 0101) Bits Stored                         US: 12\n",
      "(0028, 0102) High Bit                            US: 11\n",
      "(0028, 0103) Pixel Representation                US: 0\n",
      "(0028, 1050) Window Center                       DS: '669.0'\n",
      "(0028, 1051) Window Width                        DS: '1410.0'\n",
      "(7fe0, 0010) Pixel Data                          OB: Array of 379476 elements\n"
     ]
    }
   ],
   "source": [
    "print(slices[10])\n",
    "plt.imshow(image[3], cmap=plt.cm.bone)"
   ]
  }
 ],
 "metadata": {
  "kernelspec": {
   "display_name": "Python 3",
   "language": "python",
   "name": "python3"
  },
  "language_info": {
   "codemirror_mode": {
    "name": "ipython",
    "version": 3
   },
   "file_extension": ".py",
   "mimetype": "text/x-python",
   "name": "python",
   "nbconvert_exporter": "python",
   "pygments_lexer": "ipython3",
   "version": "3.10.6"
  }
 },
 "nbformat": 4,
 "nbformat_minor": 2
}
