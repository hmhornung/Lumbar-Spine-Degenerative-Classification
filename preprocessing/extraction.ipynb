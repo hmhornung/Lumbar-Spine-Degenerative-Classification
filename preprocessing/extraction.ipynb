{
 "cells": [
  {
   "cell_type": "code",
   "execution_count": 20,
   "metadata": {},
   "outputs": [],
   "source": [
    "#imports\n",
    "import numpy as np\n",
    "import pandas as pd \n",
    "import pydicom\n",
    "import os\n",
    "import scipy.ndimage\n",
    "import matplotlib.pyplot as plt\n",
    "\n",
    "from skimage import measure, morphology\n",
    "from mpl_toolkits.mplot3d.art3d import Poly3DCollection"
   ]
  },
  {
   "cell_type": "code",
   "execution_count": 21,
   "metadata": {},
   "outputs": [],
   "source": [
    "#path constants\n",
    "ROOT_DIR = '../'\n",
    "DATA_DIR = 'data/train_images/'\n",
    "DEST_DIR = 'raw_data/'"
   ]
  },
  {
   "cell_type": "code",
   "execution_count": 22,
   "metadata": {},
   "outputs": [],
   "source": [
    "def determine_orientation(orientation_arr: list):\n",
    "    '''\n",
    "    Conversion was found in a comment under \n",
    "    https://stackoverflow.com/questions/34782409/understanding-dicom-image-attributes-to-get-axial-coronal-sagittal-cuts\n",
    "    '''\n",
    "    coronal_plane  = [1, 0, 0, 0, 0, -1]\n",
    "    sagittal_plane = [0, 1, 0, 0, 0, -1]\n",
    "    axial_plane    = [1, 0, 0, 0, 1,  0]\n",
    "    \n",
    "    rounded_arr = [round(i) for i in orientation_arr]\n",
    "    if rounded_arr == coronal_plane:\n",
    "        return 'coronal'\n",
    "    elif rounded_arr == sagittal_plane:\n",
    "        return 'sagittal'\n",
    "    elif rounded_arr == axial_plane:\n",
    "        return 'axial'\n",
    "    else:\n",
    "        return 'indeterminate'"
   ]
  },
  {
   "cell_type": "code",
   "execution_count": 23,
   "metadata": {},
   "outputs": [],
   "source": [
    "#patient directories\n",
    "studies = os.listdir(os.path.join(ROOT_DIR, DATA_DIR))\n",
    "studies.sort()\n",
    "\n",
    "#metadata dataframe\n",
    "metadata_df = pd.DataFrame(columns=['study_id',\n",
    "                                    'series_id',\n",
    "                                    'orientation',\n",
    "                                    'dim_x',\n",
    "                                    'dim_y',\n",
    "                                    'pixel_dim_x',\n",
    "                                    'pixel_dim_y',\n",
    "                                    'rows',\n",
    "                                    'columns',\n",
    "                                    'num_slices',\n",
    "                                    'slice_spacing',\n",
    "                                    'slice_thickness',\n",
    "                                    'series_description',\n",
    "                                    'patient_position',\n",
    "                                    'image_position',\n",
    "                                    'image_orientation',\n",
    "                                    'photometric_interpretation',\n",
    "                                    'scan_dim_x_mm',\n",
    "                                    'scan_dim_y_mm',\n",
    "                                    'scan_dim_z_mm'])"
   ]
  },
  {
   "cell_type": "code",
   "execution_count": 37,
   "metadata": {},
   "outputs": [],
   "source": [
    "# Function taken and modified from \n",
    "# https://www.kaggle.com/code/gzuidhof/full-preprocessing-tutorial\n",
    "def load_scan(path: str)-> tuple[list, list]:\n",
    "    slices = [pydicom.read_file(path + '/' + s) for s in os.listdir(path)]\n",
    "    slices.sort(key = lambda x: float(x.ImagePositionPatient[2]))\n",
    "    \n",
    "    study_id =  int(str(slices[0].SeriesInstanceUID).split('.')[0])\n",
    "    series_id = int(str(slices[0].SeriesInstanceUID).split('.')[1])\n",
    "    orientation = determine_orientation(slices[0].ImageOrientationPatient)\n",
    "    dim_x = slices[0].pixel_array.shape[0]\n",
    "    dim_y = slices[0].pixel_array.shape[1]\n",
    "    pixel_dim_x = float(slices[0].PixelSpacing[0])\n",
    "    pixel_dim_y = float(slices[0].PixelSpacing[1])\n",
    "    rows = slices[0].Rows\n",
    "    columns = slices[0].Columns\n",
    "    num_slices = len(slices)\n",
    "    slice_spacing = float(slices[0].SpacingBetweenSlices)\n",
    "    slice_thickness = float(slices[0].SliceThickness)\n",
    "    series_description = slices[0].SeriesDescription\n",
    "    patient_position = slices[0].PatientPosition\n",
    "    image_position = slices[0].ImagePositionPatient\n",
    "    image_orientation = slices[0].ImageOrientationPatient\n",
    "    photometric_interpretation = slices[0].PhotometricInterpretation\n",
    "    scan_dim_x_mm = dim_x * pixel_dim_x\n",
    "    scan_dim_y_mm = dim_y * pixel_dim_y\n",
    "    scan_dim_z_mm =  num_slices * slice_spacing\n",
    "    \n",
    "    metadata = [study_id,\n",
    "                series_id,\n",
    "                orientation,\n",
    "                dim_x,\n",
    "                dim_y,\n",
    "                pixel_dim_x,\n",
    "                pixel_dim_y,\n",
    "                rows,\n",
    "                columns,\n",
    "                num_slices,\n",
    "                slice_spacing,\n",
    "                slice_thickness,\n",
    "                series_description,\n",
    "                patient_position,\n",
    "                image_position,\n",
    "                image_orientation,\n",
    "                photometric_interpretation,\n",
    "                scan_dim_x_mm,\n",
    "                scan_dim_y_mm,\n",
    "                scan_dim_z_mm]\n",
    "    \n",
    "    return slices, metadata"
   ]
  },
  {
   "cell_type": "code",
   "execution_count": 39,
   "metadata": {},
   "outputs": [
    {
     "data": {
      "text/plain": [
       "Dataset.file_meta -------------------------------\n",
       "(0002, 0001) File Meta Information Version       OB: b'\\x00\\x01'\n",
       "(0002, 0002) Media Storage SOP Class UID         UI: Enhanced MR Image Storage\n",
       "(0002, 0003) Media Storage SOP Instance UID      UI: 4264413460.1.21\n",
       "(0002, 0010) Transfer Syntax UID                 UI: RLE Lossless\n",
       "(0002, 0012) Implementation Class UID            UI: 1.2.40.0.13.1.1.1\n",
       "(0002, 0013) Implementation Version Name         SH: 'PYDICOM 2.4.2'\n",
       "-------------------------------------------------\n",
       "(0008, 0018) SOP Instance UID                    UI: 4264413460.1.21\n",
       "(0008, 0023) Content Date                        DA: '20240503'\n",
       "(0008, 0033) Content Time                        TM: '224023.805276'\n",
       "(0008, 103e) Series Description                  LO: 'T2'\n",
       "(0010, 0020) Patient ID                          LO: '4264413460'\n",
       "(0018, 0050) Slice Thickness                     DS: '3.0'\n",
       "(0018, 0088) Spacing Between Slices              DS: '3.6'\n",
       "(0018, 5100) Patient Position                    CS: 'HFS'\n",
       "(0020, 000d) Study Instance UID                  UI: 4264413460\n",
       "(0020, 000e) Series Instance UID                 UI: 4264413460.975997321\n",
       "(0020, 0013) Instance Number                     IS: '21'\n",
       "(0020, 0032) Image Position (Patient)            DS: [48.398754, -94.72862, -228.04965]\n",
       "(0020, 0037) Image Orientation (Patient)         DS: [-0.009198977, 0.9999577, 1.52786E-10, -0.05813604, -5.3481455E-4, -0.99830854]\n",
       "(0020, 0052) Frame of Reference UID              UI: 1.2.826.0.1.3680043.8.498.10443069973730087059565862437170884744\n",
       "(0020, 1041) Slice Location                      DS: '60.703377'\n",
       "(0028, 0002) Samples per Pixel                   US: 1\n",
       "(0028, 0004) Photometric Interpretation          CS: 'MONOCHROME2'\n",
       "(0028, 0010) Rows                                US: 576\n",
       "(0028, 0011) Columns                             US: 576\n",
       "(0028, 0030) Pixel Spacing                       DS: [0.4861111, 0.4861111]\n",
       "(0028, 0100) Bits Allocated                      US: 16\n",
       "(0028, 0101) Bits Stored                         US: 12\n",
       "(0028, 0102) High Bit                            US: 11\n",
       "(0028, 0103) Pixel Representation                US: 0\n",
       "(0028, 1050) Window Center                       DS: '609.0'\n",
       "(0028, 1051) Window Width                        DS: '1346.0'\n",
       "(7fe0, 0010) Pixel Data                          OB: Array of 372846 elements"
      ]
     },
     "execution_count": 39,
     "metadata": {},
     "output_type": "execute_result"
    }
   ],
   "source": [
    "ex_dir = '4264413460/975997321'\n",
    "path = os.path.join(ROOT_DIR, DATA_DIR, ex_dir)\n",
    "data = load_scan(path)\n",
    "data[0][0]"
   ]
  }
 ],
 "metadata": {
  "kernelspec": {
   "display_name": "Python 3",
   "language": "python",
   "name": "python3"
  },
  "language_info": {
   "codemirror_mode": {
    "name": "ipython",
    "version": 3
   },
   "file_extension": ".py",
   "mimetype": "text/x-python",
   "name": "python",
   "nbconvert_exporter": "python",
   "pygments_lexer": "ipython3",
   "version": "3.10.6"
  }
 },
 "nbformat": 4,
 "nbformat_minor": 2
}
