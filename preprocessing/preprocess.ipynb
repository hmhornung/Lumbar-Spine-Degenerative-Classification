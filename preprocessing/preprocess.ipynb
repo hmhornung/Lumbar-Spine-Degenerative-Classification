{
 "cells": [
  {
   "cell_type": "code",
   "execution_count": 2,
   "metadata": {},
   "outputs": [],
   "source": [
    "import preprocessing_util as util\n",
    "import os\n",
    "import numpy as np\n",
    "import pandas as pd\n",
    "import torch"
   ]
  },
  {
   "cell_type": "code",
   "execution_count": null,
   "metadata": {},
   "outputs": [],
   "source": [
    "def preprocess(data_dir, dest_dir, max_dimensions=[400,400,400], resample_resolution=[2,2,2]):\n",
    "    train_images_dir = os.path.join(data_dir, 'train_images/')\n",
    "    train_label_coordinates_dir = os.path.join(data_dir, 'train_label_coordinates.csv')\n",
    "    train_series_descriptions_dir = os.path.join(data_dir, 'train_series_descriptions.csv')\n",
    "    train_labels_dir = os.path.join(data_dir, 'train.csv')\n",
    "    \n",
    "    studies = os.listdir(train_images_dir)\n",
    "    \n",
    "    for study in studies:\n",
    "        series_ids = os.listdir(os.path.join(train_images_dir, study))\n",
    "        \n",
    "        # Get the Severity Label data for this study (one-hot encoded)\n",
    "        labels = util.load_label_data(train_labels_dir, study)\n",
    "        \n",
    "        for series in series_ids:\n",
    "            \n",
    "            scan = util.load_sample(os.path.join(train_images_dir, study, series))\n",
    "            \n",
    "            # Skip this series if it has an error\n",
    "            if not util.check_valid_scan(scan):\n",
    "                print(f'Skipping study {study} series {series}, multiple scans dumped in same directory')\n",
    "                continue\n",
    "            \n",
    "            # Get the coordinate data for this series\n",
    "            coord_data, mask = util.load_coord_data(train_label_coordinates_dir, series)\n",
    "            \n",
    "            # Stack the scan together\n",
    "            slices = np.stack([s.pixel_array for s in scan], dtype=np.float32)\n",
    "            \n",
    "            # Resample the Images and Coordinates to new resolution\n",
    "            resampled_image, resampled_coord_data, new_spacing = util.resample_with_coordinates( slices , scan, coord_data, resample_resolution)\n",
    "            \n",
    "            orientation = util.get_series_orientation(train_series_descriptions_dir, series)\n",
    "            if orientation.lower().contains('sagittal'):\n",
    "                resampled_image, resampled_coord_data = util.sagittal_to_axial(resampled_image, resampled_coord_data)\n",
    "                \n",
    "            \n",
    "            \n",
    "            \n",
    "\n",
    "            \n",
    "        \n",
    "    \n",
    "    return"
   ]
  }
 ],
 "metadata": {
  "kernelspec": {
   "display_name": "Python 3",
   "language": "python",
   "name": "python3"
  },
  "language_info": {
   "codemirror_mode": {
    "name": "ipython",
    "version": 3
   },
   "file_extension": ".py",
   "mimetype": "text/x-python",
   "name": "python",
   "nbconvert_exporter": "python",
   "pygments_lexer": "ipython3",
   "version": "3.10.6"
  }
 },
 "nbformat": 4,
 "nbformat_minor": 2
}
