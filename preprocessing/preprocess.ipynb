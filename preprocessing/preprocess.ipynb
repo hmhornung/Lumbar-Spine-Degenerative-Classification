{
 "cells": [
  {
   "cell_type": "code",
   "execution_count": 1,
   "metadata": {},
   "outputs": [],
   "source": [
    "import preprocessing_util\n",
    "import os\n",
    "import numpy as np\n",
    "import pandas as pd\n",
    "import torch"
   ]
  },
  {
   "cell_type": "code",
   "execution_count": null,
   "metadata": {},
   "outputs": [],
   "source": [
    "def preprocess(data_dir, dest_dir, max_dimensions=[400,400,400], resample_resolution=[2,2,2]):\n",
    "    train_images_dir = os.path.join(data_dir, 'train_images/')\n",
    "    train_label_coordinates_dir = os.path.join(data_dir, 'train_label_coordinates.csv')\n",
    "    train_series_descriptions_dir = os.path.join(data_dir, 'train_series_descriptions.csv')\n",
    "    train_labels_dir = os.path.join(data_dir, 'train.csv')\n",
    "    \n",
    "    studies = os.listdir(train_images_dir)\n",
    "    \n",
    "    for study in studies:\n",
    "        \n",
    "        \n",
    "    \n",
    "    return"
   ]
  }
 ],
 "metadata": {
  "kernelspec": {
   "display_name": "Python 3",
   "language": "python",
   "name": "python3"
  },
  "language_info": {
   "codemirror_mode": {
    "name": "ipython",
    "version": 3
   },
   "file_extension": ".py",
   "mimetype": "text/x-python",
   "name": "python",
   "nbconvert_exporter": "python",
   "pygments_lexer": "ipython3",
   "version": "3.10.6"
  }
 },
 "nbformat": 4,
 "nbformat_minor": 2
}
